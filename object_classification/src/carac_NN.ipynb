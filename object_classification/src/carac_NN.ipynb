{
 "cells": [
  {
   "cell_type": "code",
   "execution_count": 5,
   "metadata": {},
   "outputs": [],
   "source": [
    "import keras\n",
    "import pandas as pd\n",
    "import h5py"
   ]
  },
  {
   "cell_type": "code",
   "execution_count": 19,
   "metadata": {},
   "outputs": [
    {
     "name": "stdout",
     "output_type": "stream",
     "text": [
      "WARNING:tensorflow:No training configuration found in the save file, so the model was *not* compiled. Compile it manually.\n",
      "Model: \"sequential_16\"\n",
      "_________________________________________________________________\n",
      " Layer (type)                Output Shape              Param #   \n",
      "=================================================================\n",
      " sequential_13 (Sequential)  (None, 1280)              410208    \n",
      "                                                                 \n",
      " sequential_15 (Sequential)  (None, 7)                 128800    \n",
      "                                                                 \n",
      "=================================================================\n",
      "Total params: 539,008\n",
      "Trainable params: 524,928\n",
      "Non-trainable params: 14,080\n",
      "_________________________________________________________________\n"
     ]
    }
   ],
   "source": [
    "model = keras.models.load_model('model_class_object_nuevas.h5')\n",
    "model.compile(loss='categorical_crossentropy', optimizer='adam', metrics=['accuracy'])\n",
    "model.summary()"
   ]
  },
  {
   "cell_type": "code",
   "execution_count": 23,
   "metadata": {},
   "outputs": [
    {
     "ename": "NameError",
     "evalue": "name 'model' is not defined",
     "output_type": "error",
     "traceback": [
      "\u001b[1;31m---------------------------------------------------------------------------\u001b[0m",
      "\u001b[1;31mNameError\u001b[0m                                 Traceback (most recent call last)",
      "\u001b[1;32mc:\\Users\\oscar\\OneDrive - Instituto Tecnologico y de Estudios Superiores de Monterrey\\Desktop\\Docs\\8vo\\Proyecto integracion\\Repositorio\\coral\\object_classification\\src\\carac_NN.ipynb Cell 3\u001b[0m in \u001b[0;36m3\n\u001b[0;32m      <a href='vscode-notebook-cell:/c%3A/Users/oscar/OneDrive%20-%20Instituto%20Tecnologico%20y%20de%20Estudios%20Superiores%20de%20Monterrey/Desktop/Docs/8vo/Proyecto%20integracion/Repositorio/coral/object_classification/src/carac_NN.ipynb#W3sZmlsZQ%3D%3D?line=0'>1</a>\u001b[0m layers \u001b[39m=\u001b[39m []\n\u001b[1;32m----> <a href='vscode-notebook-cell:/c%3A/Users/oscar/OneDrive%20-%20Instituto%20Tecnologico%20y%20de%20Estudios%20Superiores%20de%20Monterrey/Desktop/Docs/8vo/Proyecto%20integracion/Repositorio/coral/object_classification/src/carac_NN.ipynb#W3sZmlsZQ%3D%3D?line=2'>3</a>\u001b[0m \u001b[39mfor\u001b[39;00m layer \u001b[39min\u001b[39;00m model\u001b[39m.\u001b[39mlayers:\n\u001b[0;32m      <a href='vscode-notebook-cell:/c%3A/Users/oscar/OneDrive%20-%20Instituto%20Tecnologico%20y%20de%20Estudios%20Superiores%20de%20Monterrey/Desktop/Docs/8vo/Proyecto%20integracion/Repositorio/coral/object_classification/src/carac_NN.ipynb#W3sZmlsZQ%3D%3D?line=3'>4</a>\u001b[0m     \u001b[39m# Create a dictionary with the attributes of the layer\u001b[39;00m\n\u001b[0;32m      <a href='vscode-notebook-cell:/c%3A/Users/oscar/OneDrive%20-%20Instituto%20Tecnologico%20y%20de%20Estudios%20Superiores%20de%20Monterrey/Desktop/Docs/8vo/Proyecto%20integracion/Repositorio/coral/object_classification/src/carac_NN.ipynb#W3sZmlsZQ%3D%3D?line=4'>5</a>\u001b[0m     layer_dict \u001b[39m=\u001b[39m {\n\u001b[0;32m      <a href='vscode-notebook-cell:/c%3A/Users/oscar/OneDrive%20-%20Instituto%20Tecnologico%20y%20de%20Estudios%20Superiores%20de%20Monterrey/Desktop/Docs/8vo/Proyecto%20integracion/Repositorio/coral/object_classification/src/carac_NN.ipynb#W3sZmlsZQ%3D%3D?line=5'>6</a>\u001b[0m         \u001b[39m'\u001b[39m\u001b[39mname\u001b[39m\u001b[39m'\u001b[39m: layer\u001b[39m.\u001b[39mname,\n\u001b[0;32m      <a href='vscode-notebook-cell:/c%3A/Users/oscar/OneDrive%20-%20Instituto%20Tecnologico%20y%20de%20Estudios%20Superiores%20de%20Monterrey/Desktop/Docs/8vo/Proyecto%20integracion/Repositorio/coral/object_classification/src/carac_NN.ipynb#W3sZmlsZQ%3D%3D?line=6'>7</a>\u001b[0m         \u001b[39m'\u001b[39m\u001b[39mtype\u001b[39m\u001b[39m'\u001b[39m: layer\u001b[39m.\u001b[39m\u001b[39m__class__\u001b[39m\u001b[39m.\u001b[39m\u001b[39m__name__\u001b[39m,\n\u001b[0;32m      <a href='vscode-notebook-cell:/c%3A/Users/oscar/OneDrive%20-%20Instituto%20Tecnologico%20y%20de%20Estudios%20Superiores%20de%20Monterrey/Desktop/Docs/8vo/Proyecto%20integracion/Repositorio/coral/object_classification/src/carac_NN.ipynb#W3sZmlsZQ%3D%3D?line=7'>8</a>\u001b[0m         \u001b[39m'\u001b[39m\u001b[39mtrainable\u001b[39m\u001b[39m'\u001b[39m: layer\u001b[39m.\u001b[39mtrainable,\n\u001b[0;32m      <a href='vscode-notebook-cell:/c%3A/Users/oscar/OneDrive%20-%20Instituto%20Tecnologico%20y%20de%20Estudios%20Superiores%20de%20Monterrey/Desktop/Docs/8vo/Proyecto%20integracion/Repositorio/coral/object_classification/src/carac_NN.ipynb#W3sZmlsZQ%3D%3D?line=8'>9</a>\u001b[0m     }\n\u001b[0;32m     <a href='vscode-notebook-cell:/c%3A/Users/oscar/OneDrive%20-%20Instituto%20Tecnologico%20y%20de%20Estudios%20Superiores%20de%20Monterrey/Desktop/Docs/8vo/Proyecto%20integracion/Repositorio/coral/object_classification/src/carac_NN.ipynb#W3sZmlsZQ%3D%3D?line=10'>11</a>\u001b[0m     \u001b[39m# Get the attributes of the layer based on its type\u001b[39;00m\n",
      "\u001b[1;31mNameError\u001b[0m: name 'model' is not defined"
     ]
    }
   ],
   "source": [
    "\n",
    "layers = []\n",
    "\n",
    "for layer in model.layers:\n",
    "    # Create a dictionary with the attributes of the layer\n",
    "    layer_dict = {\n",
    "        'name': layer.name,\n",
    "        'type': layer.__class__.__name__,\n",
    "        'trainable': layer.trainable,\n",
    "    }\n",
    "    \n",
    "    # Get the attributes of the layer based on its type\n",
    "    if isinstance(layer, keras.layers.Conv2D):\n",
    "        layer_dict.update({\n",
    "            'filters': layer.filters,\n",
    "            'kernel_size': layer.kernel_size,\n",
    "            'strides': layer.strides,\n",
    "            'padding': layer.padding,\n",
    "            'activation': layer.activation.__name__\n",
    "        })\n",
    "        \n",
    "    elif isinstance(layer, keras.layers.MaxPooling2D):\n",
    "        layer_dict.update({\n",
    "            'pool_size': layer.pool_size,\n",
    "            'strides': layer.strides,\n",
    "            'padding': layer.padding,\n",
    "        })\n",
    "        \n",
    "    elif isinstance(layer, keras.layers.BatchNormalization):\n",
    "        layer_dict.update({\n",
    "            'epsilon': layer.epsilon,\n",
    "            'momentum': layer.momentum\n",
    "        })\n",
    "    \n",
    "    elif isinstance(layer, keras.layers.Dense):\n",
    "        layer_dict.update({\n",
    "            'units': layer.units,\n",
    "            'activation': layer.activation.__name__\n",
    "        })\n",
    "        \n",
    "    layers.append(layer_dict)\n",
    "\n",
    "df_layers = pd.DataFrame(layers)\n",
    "df_layers"
   ]
  }
 ],
 "metadata": {
  "kernelspec": {
   "display_name": "Python 3",
   "language": "python",
   "name": "python3"
  },
  "language_info": {
   "codemirror_mode": {
    "name": "ipython",
    "version": 3
   },
   "file_extension": ".py",
   "mimetype": "text/x-python",
   "name": "python",
   "nbconvert_exporter": "python",
   "pygments_lexer": "ipython3",
   "version": "3.10.4"
  },
  "orig_nbformat": 4
 },
 "nbformat": 4,
 "nbformat_minor": 2
}
